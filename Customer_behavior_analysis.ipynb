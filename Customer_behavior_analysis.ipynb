{
 "cells": [
  {
   "cell_type": "markdown",
   "id": "757a1abc-63ad-498e-9d11-49d50f7080f7",
   "metadata": {},
   "source": [
    "# Python Code to Load CSV into MySQL"
   ]
  },
  {
   "cell_type": "code",
   "execution_count": 1,
   "id": "104e6bb7-ef14-4c61-b0e2-5addc322ac25",
   "metadata": {},
   "outputs": [],
   "source": [
    "import mysql.connector as db\n",
    "import pandas as pd"
   ]
  },
  {
   "cell_type": "code",
   "execution_count": 2,
   "id": "2050fd43-7251-443a-b399-b7ebb3bf4168",
   "metadata": {},
   "outputs": [
    {
     "data": {
      "text/html": [
       "<div>\n",
       "<style scoped>\n",
       "    .dataframe tbody tr th:only-of-type {\n",
       "        vertical-align: middle;\n",
       "    }\n",
       "\n",
       "    .dataframe tbody tr th {\n",
       "        vertical-align: top;\n",
       "    }\n",
       "\n",
       "    .dataframe thead th {\n",
       "        text-align: right;\n",
       "    }\n",
       "</style>\n",
       "<table border=\"1\" class=\"dataframe\">\n",
       "  <thead>\n",
       "    <tr style=\"text-align: right;\">\n",
       "      <th></th>\n",
       "      <th>CustomerID</th>\n",
       "      <th>CustomerName</th>\n",
       "      <th>Email</th>\n",
       "      <th>Gender</th>\n",
       "      <th>Age</th>\n",
       "      <th>GeographyID</th>\n",
       "    </tr>\n",
       "  </thead>\n",
       "  <tbody>\n",
       "    <tr>\n",
       "      <th>0</th>\n",
       "      <td>1</td>\n",
       "      <td>Emma Anderson</td>\n",
       "      <td>emma.anderson@example.com</td>\n",
       "      <td>Male</td>\n",
       "      <td>50</td>\n",
       "      <td>2</td>\n",
       "    </tr>\n",
       "    <tr>\n",
       "      <th>1</th>\n",
       "      <td>2</td>\n",
       "      <td>Sarah Brown</td>\n",
       "      <td>sarah.brown@example.com</td>\n",
       "      <td>Female</td>\n",
       "      <td>37</td>\n",
       "      <td>4</td>\n",
       "    </tr>\n",
       "    <tr>\n",
       "      <th>2</th>\n",
       "      <td>3</td>\n",
       "      <td>Robert Hernandez</td>\n",
       "      <td>robert.hernandez@example.com</td>\n",
       "      <td>Female</td>\n",
       "      <td>26</td>\n",
       "      <td>6</td>\n",
       "    </tr>\n",
       "    <tr>\n",
       "      <th>3</th>\n",
       "      <td>4</td>\n",
       "      <td>David Garcia</td>\n",
       "      <td>david.garcia@example.com</td>\n",
       "      <td>Male</td>\n",
       "      <td>25</td>\n",
       "      <td>8</td>\n",
       "    </tr>\n",
       "    <tr>\n",
       "      <th>4</th>\n",
       "      <td>5</td>\n",
       "      <td>Emma Miller</td>\n",
       "      <td>emma.miller@example.com</td>\n",
       "      <td>Female</td>\n",
       "      <td>41</td>\n",
       "      <td>4</td>\n",
       "    </tr>\n",
       "    <tr>\n",
       "      <th>...</th>\n",
       "      <td>...</td>\n",
       "      <td>...</td>\n",
       "      <td>...</td>\n",
       "      <td>...</td>\n",
       "      <td>...</td>\n",
       "      <td>...</td>\n",
       "    </tr>\n",
       "    <tr>\n",
       "      <th>95</th>\n",
       "      <td>96</td>\n",
       "      <td>Emily Gonzalez</td>\n",
       "      <td>emily.gonzalez@example.com</td>\n",
       "      <td>Female</td>\n",
       "      <td>38</td>\n",
       "      <td>10</td>\n",
       "    </tr>\n",
       "    <tr>\n",
       "      <th>96</th>\n",
       "      <td>97</td>\n",
       "      <td>Emily Rodriguez</td>\n",
       "      <td>emily.rodriguez@example.com</td>\n",
       "      <td>Female</td>\n",
       "      <td>51</td>\n",
       "      <td>3</td>\n",
       "    </tr>\n",
       "    <tr>\n",
       "      <th>97</th>\n",
       "      <td>98</td>\n",
       "      <td>Chris Lopez</td>\n",
       "      <td>chris.lopez@example.com</td>\n",
       "      <td>Female</td>\n",
       "      <td>55</td>\n",
       "      <td>10</td>\n",
       "    </tr>\n",
       "    <tr>\n",
       "      <th>98</th>\n",
       "      <td>99</td>\n",
       "      <td>Laura Hernandez</td>\n",
       "      <td>laura.hernandez@example.com</td>\n",
       "      <td>Male</td>\n",
       "      <td>41</td>\n",
       "      <td>5</td>\n",
       "    </tr>\n",
       "    <tr>\n",
       "      <th>99</th>\n",
       "      <td>100</td>\n",
       "      <td>Jane Brown</td>\n",
       "      <td>jane.brown@example.com</td>\n",
       "      <td>Female</td>\n",
       "      <td>45</td>\n",
       "      <td>10</td>\n",
       "    </tr>\n",
       "  </tbody>\n",
       "</table>\n",
       "<p>100 rows × 6 columns</p>\n",
       "</div>"
      ],
      "text/plain": [
       "    CustomerID      CustomerName                         Email  Gender  Age  \\\n",
       "0            1     Emma Anderson     emma.anderson@example.com    Male   50   \n",
       "1            2       Sarah Brown       sarah.brown@example.com  Female   37   \n",
       "2            3  Robert Hernandez  robert.hernandez@example.com  Female   26   \n",
       "3            4      David Garcia      david.garcia@example.com    Male   25   \n",
       "4            5       Emma Miller       emma.miller@example.com  Female   41   \n",
       "..         ...               ...                           ...     ...  ...   \n",
       "95          96    Emily Gonzalez    emily.gonzalez@example.com  Female   38   \n",
       "96          97   Emily Rodriguez   emily.rodriguez@example.com  Female   51   \n",
       "97          98       Chris Lopez       chris.lopez@example.com  Female   55   \n",
       "98          99   Laura Hernandez   laura.hernandez@example.com    Male   41   \n",
       "99         100        Jane Brown        jane.brown@example.com  Female   45   \n",
       "\n",
       "    GeographyID  \n",
       "0             2  \n",
       "1             4  \n",
       "2             6  \n",
       "3             8  \n",
       "4             4  \n",
       "..          ...  \n",
       "95           10  \n",
       "96            3  \n",
       "97           10  \n",
       "98            5  \n",
       "99           10  \n",
       "\n",
       "[100 rows x 6 columns]"
      ]
     },
     "execution_count": 2,
     "metadata": {},
     "output_type": "execute_result"
    }
   ],
   "source": [
    "# Read the customers.csv file\n",
    "\n",
    "df = pd.read_csv(\"customers.csv\")\n",
    "df\n"
   ]
  },
  {
   "cell_type": "code",
   "execution_count": 16,
   "id": "ccfe6472-d5c1-400c-9d7e-fb49afdc02b9",
   "metadata": {},
   "outputs": [
    {
     "name": "stdout",
     "output_type": "stream",
     "text": [
      "CustomerID      0\n",
      "CustomerName    0\n",
      "Email           0\n",
      "Gender          0\n",
      "Age             0\n",
      "GeographyID     0\n",
      "dtype: int64\n"
     ]
    }
   ],
   "source": [
    "# Check for missing values in each column\n",
    "\n",
    "print(df.isnull().sum())\n"
   ]
  },
  {
   "cell_type": "code",
   "execution_count": 17,
   "id": "f5f845c2-be67-4805-9703-2eba567113a1",
   "metadata": {},
   "outputs": [
    {
     "data": {
      "text/plain": [
       "np.int64(0)"
      ]
     },
     "execution_count": 17,
     "metadata": {},
     "output_type": "execute_result"
    }
   ],
   "source": [
    "df.duplicated().sum()"
   ]
  },
  {
   "cell_type": "code",
   "execution_count": null,
   "id": "0d25a852-faa4-41c0-a2d7-1f8213f05d62",
   "metadata": {},
   "outputs": [],
   "source": []
  },
  {
   "cell_type": "code",
   "execution_count": 41,
   "id": "11f832d1-5963-4382-a4b3-adccf9f631f1",
   "metadata": {},
   "outputs": [],
   "source": [
    "#Connect to MySQL\n",
    "\n",
    "conn = db.connect(\n",
    "    host=\"localhost\",\n",
    "    user=\"shopeasy_db\",\n",
    "    password=\"shopeasy@123\",\n",
    "    database=\"shopeasy\"\n",
    ")\n",
    "cursor = conn.cursor()\n"
   ]
  },
  {
   "cell_type": "code",
   "execution_count": 23,
   "id": "4f202cd7-fbfa-40c8-bbb1-924904eb3f40",
   "metadata": {},
   "outputs": [
    {
     "name": "stdout",
     "output_type": "stream",
     "text": [
      "Data inserted successfully!\n"
     ]
    }
   ],
   "source": [
    "# Insert data into the customers table\n",
    "for _, row in df.iterrows():\n",
    "    sql = \"\"\"\n",
    "    INSERT IGNORE INTO customers (CustomerID, CustomerName, Email, Gender, Age, GeographyID) \n",
    "    VALUES (%s, %s, %s, %s, %s, %s)\n",
    "    \"\"\"\n",
    "    cursor.execute(sql, tuple(row))\n",
    "\n",
    "# Commit and close connection\n",
    "conn.commit()\n",
    "cursor.close()\n",
    "conn.close()\n",
    "\n",
    "print(\"Data inserted successfully!\")\n"
   ]
  },
  {
   "cell_type": "code",
   "execution_count": null,
   "id": "23b6839c-05d4-4a0a-9764-d735837816d1",
   "metadata": {},
   "outputs": [],
   "source": []
  },
  {
   "cell_type": "code",
   "execution_count": 75,
   "id": "23354817-67b3-40df-9f4e-071a283a5824",
   "metadata": {},
   "outputs": [
    {
     "data": {
      "text/html": [
       "<div>\n",
       "<style scoped>\n",
       "    .dataframe tbody tr th:only-of-type {\n",
       "        vertical-align: middle;\n",
       "    }\n",
       "\n",
       "    .dataframe tbody tr th {\n",
       "        vertical-align: top;\n",
       "    }\n",
       "\n",
       "    .dataframe thead th {\n",
       "        text-align: right;\n",
       "    }\n",
       "</style>\n",
       "<table border=\"1\" class=\"dataframe\">\n",
       "  <thead>\n",
       "    <tr style=\"text-align: right;\">\n",
       "      <th></th>\n",
       "      <th>ProductID</th>\n",
       "      <th>ProductName</th>\n",
       "      <th>Category</th>\n",
       "      <th>Price</th>\n",
       "    </tr>\n",
       "  </thead>\n",
       "  <tbody>\n",
       "    <tr>\n",
       "      <th>0</th>\n",
       "      <td>1</td>\n",
       "      <td>Running Shoes</td>\n",
       "      <td>Sports</td>\n",
       "      <td>223.75</td>\n",
       "    </tr>\n",
       "    <tr>\n",
       "      <th>1</th>\n",
       "      <td>2</td>\n",
       "      <td>Fitness Tracker</td>\n",
       "      <td>Sports</td>\n",
       "      <td>196.68</td>\n",
       "    </tr>\n",
       "    <tr>\n",
       "      <th>2</th>\n",
       "      <td>3</td>\n",
       "      <td>Yoga Mat</td>\n",
       "      <td>Sports</td>\n",
       "      <td>485.32</td>\n",
       "    </tr>\n",
       "    <tr>\n",
       "      <th>3</th>\n",
       "      <td>4</td>\n",
       "      <td>Dumbbells</td>\n",
       "      <td>Sports</td>\n",
       "      <td>26.21</td>\n",
       "    </tr>\n",
       "    <tr>\n",
       "      <th>4</th>\n",
       "      <td>5</td>\n",
       "      <td>Soccer Ball</td>\n",
       "      <td>Sports</td>\n",
       "      <td>41.26</td>\n",
       "    </tr>\n",
       "  </tbody>\n",
       "</table>\n",
       "</div>"
      ],
      "text/plain": [
       "   ProductID      ProductName Category   Price\n",
       "0          1    Running Shoes   Sports  223.75\n",
       "1          2  Fitness Tracker   Sports  196.68\n",
       "2          3         Yoga Mat   Sports  485.32\n",
       "3          4        Dumbbells   Sports   26.21\n",
       "4          5      Soccer Ball   Sports   41.26"
      ]
     },
     "execution_count": 75,
     "metadata": {},
     "output_type": "execute_result"
    }
   ],
   "source": [
    "# Read the products.csv file\n",
    "\n",
    "df1 = pd.read_csv(\"products.csv\")\n",
    "\n",
    "df1.head()\n"
   ]
  },
  {
   "cell_type": "code",
   "execution_count": 31,
   "id": "f4a049b4-6d4c-4109-bc0c-4d0ca6d18f22",
   "metadata": {},
   "outputs": [
    {
     "name": "stdout",
     "output_type": "stream",
     "text": [
      "ProductID      0\n",
      "ProductName    0\n",
      "Category       0\n",
      "Price          0\n",
      "dtype: int64\n"
     ]
    }
   ],
   "source": [
    "print(df1.isnull().sum())\n"
   ]
  },
  {
   "cell_type": "code",
   "execution_count": 32,
   "id": "606e57d4-2a75-4015-9878-246d7f134a47",
   "metadata": {},
   "outputs": [
    {
     "data": {
      "text/plain": [
       "np.int64(0)"
      ]
     },
     "execution_count": 32,
     "metadata": {},
     "output_type": "execute_result"
    }
   ],
   "source": [
    "df1.duplicated().sum()"
   ]
  },
  {
   "cell_type": "code",
   "execution_count": 34,
   "id": "edc49ed0-5f4b-4a6b-870d-64fdd99d63a1",
   "metadata": {},
   "outputs": [
    {
     "name": "stdout",
     "output_type": "stream",
     "text": [
      "Data inserted successfully!\n"
     ]
    }
   ],
   "source": [
    "# Insert data into the products table\n",
    "for _, row in df1.iterrows():\n",
    "    sql = \"\"\"\n",
    "    INSERT IGNORE INTO products (ProductID, ProductName, Category, Price) \n",
    "    VALUES (%s, %s, %s, %s)\n",
    "    \"\"\"\n",
    "    cursor.execute(sql, tuple(row))\n",
    "\n",
    "# Commit and close connection\n",
    "conn.commit()\n",
    "cursor.close()\n",
    "conn.close()\n",
    "\n",
    "print(\"Data inserted successfully!\")\n"
   ]
  },
  {
   "cell_type": "code",
   "execution_count": null,
   "id": "2999e50c-6a7e-4293-beb7-916ed46df715",
   "metadata": {},
   "outputs": [],
   "source": []
  },
  {
   "cell_type": "code",
   "execution_count": 35,
   "id": "85fe41ea-ddad-444d-aa32-d37a5d7a5448",
   "metadata": {},
   "outputs": [
    {
     "data": {
      "text/html": [
       "<div>\n",
       "<style scoped>\n",
       "    .dataframe tbody tr th:only-of-type {\n",
       "        vertical-align: middle;\n",
       "    }\n",
       "\n",
       "    .dataframe tbody tr th {\n",
       "        vertical-align: top;\n",
       "    }\n",
       "\n",
       "    .dataframe thead th {\n",
       "        text-align: right;\n",
       "    }\n",
       "</style>\n",
       "<table border=\"1\" class=\"dataframe\">\n",
       "  <thead>\n",
       "    <tr style=\"text-align: right;\">\n",
       "      <th></th>\n",
       "      <th>EngagementID</th>\n",
       "      <th>ContentID</th>\n",
       "      <th>ContentType</th>\n",
       "      <th>Likes</th>\n",
       "      <th>EngagementDate</th>\n",
       "      <th>CampaignID</th>\n",
       "      <th>ProductID</th>\n",
       "      <th>ViewsClicksCombined</th>\n",
       "    </tr>\n",
       "  </thead>\n",
       "  <tbody>\n",
       "    <tr>\n",
       "      <th>0</th>\n",
       "      <td>1</td>\n",
       "      <td>39</td>\n",
       "      <td>Blog</td>\n",
       "      <td>190</td>\n",
       "      <td>2023-08-30</td>\n",
       "      <td>1</td>\n",
       "      <td>9</td>\n",
       "      <td>1883-671</td>\n",
       "    </tr>\n",
       "    <tr>\n",
       "      <th>1</th>\n",
       "      <td>2</td>\n",
       "      <td>48</td>\n",
       "      <td>Blog</td>\n",
       "      <td>114</td>\n",
       "      <td>2023-03-28</td>\n",
       "      <td>18</td>\n",
       "      <td>20</td>\n",
       "      <td>5280-532</td>\n",
       "    </tr>\n",
       "    <tr>\n",
       "      <th>2</th>\n",
       "      <td>3</td>\n",
       "      <td>16</td>\n",
       "      <td>video</td>\n",
       "      <td>32</td>\n",
       "      <td>2023-12-08</td>\n",
       "      <td>7</td>\n",
       "      <td>14</td>\n",
       "      <td>1905-204</td>\n",
       "    </tr>\n",
       "    <tr>\n",
       "      <th>3</th>\n",
       "      <td>4</td>\n",
       "      <td>43</td>\n",
       "      <td>Video</td>\n",
       "      <td>17</td>\n",
       "      <td>2025-01-21</td>\n",
       "      <td>19</td>\n",
       "      <td>20</td>\n",
       "      <td>2766-257</td>\n",
       "    </tr>\n",
       "    <tr>\n",
       "      <th>4</th>\n",
       "      <td>5</td>\n",
       "      <td>16</td>\n",
       "      <td>newsletter</td>\n",
       "      <td>306</td>\n",
       "      <td>2024-02-21</td>\n",
       "      <td>6</td>\n",
       "      <td>15</td>\n",
       "      <td>5116-1524</td>\n",
       "    </tr>\n",
       "  </tbody>\n",
       "</table>\n",
       "</div>"
      ],
      "text/plain": [
       "   EngagementID  ContentID ContentType  Likes EngagementDate  CampaignID  \\\n",
       "0             1         39        Blog    190     2023-08-30           1   \n",
       "1             2         48        Blog    114     2023-03-28          18   \n",
       "2             3         16       video     32     2023-12-08           7   \n",
       "3             4         43       Video     17     2025-01-21          19   \n",
       "4             5         16  newsletter    306     2024-02-21           6   \n",
       "\n",
       "   ProductID ViewsClicksCombined  \n",
       "0          9            1883-671  \n",
       "1         20            5280-532  \n",
       "2         14            1905-204  \n",
       "3         20            2766-257  \n",
       "4         15           5116-1524  "
      ]
     },
     "execution_count": 35,
     "metadata": {},
     "output_type": "execute_result"
    }
   ],
   "source": [
    "# Read the engagement_data.csv file\n",
    "\n",
    "df2 = pd.read_csv(\"engagement_data.csv\")\n",
    "\n",
    "df2.head()\n",
    "\n"
   ]
  },
  {
   "cell_type": "code",
   "execution_count": 36,
   "id": "8140224e-b567-4c00-bbf8-fd4878d9124f",
   "metadata": {},
   "outputs": [
    {
     "name": "stdout",
     "output_type": "stream",
     "text": [
      "EngagementID           0\n",
      "ContentID              0\n",
      "ContentType            0\n",
      "Likes                  0\n",
      "EngagementDate         0\n",
      "CampaignID             0\n",
      "ProductID              0\n",
      "ViewsClicksCombined    0\n",
      "dtype: int64\n"
     ]
    }
   ],
   "source": [
    "print(df2.isnull().sum())"
   ]
  },
  {
   "cell_type": "code",
   "execution_count": 37,
   "id": "c3acbc0a-bb95-428a-a400-647ad91616bf",
   "metadata": {},
   "outputs": [
    {
     "data": {
      "text/plain": [
       "np.int64(0)"
      ]
     },
     "execution_count": 37,
     "metadata": {},
     "output_type": "execute_result"
    }
   ],
   "source": [
    "df2.duplicated().sum()"
   ]
  },
  {
   "cell_type": "code",
   "execution_count": 39,
   "id": "937ac3f4-d615-45a3-9d67-7db859cd1ab1",
   "metadata": {},
   "outputs": [
    {
     "name": "stdout",
     "output_type": "stream",
     "text": [
      "Data inserted successfully!\n"
     ]
    }
   ],
   "source": [
    "# Insert data into the engagement_data table\n",
    "\n",
    "for _, row in df2.iterrows():\n",
    "    sql = \"\"\"\n",
    "    INSERT IGNORE INTO engagement_data (EngagementID, ContentID, ContentType, Likes, EngagementDate, CampaignID, ProductID, ViewsClicksCombined) \n",
    "    VALUES (%s, %s, %s, %s, %s, %s, %s, %s)\n",
    "    \"\"\"\n",
    "    cursor.execute(sql, tuple(row))\n",
    "\n",
    "# Commit and close connection\n",
    "conn.commit()\n",
    "cursor.close()\n",
    "conn.close()\n",
    "\n",
    "print(\"Data inserted successfully!\")\n"
   ]
  },
  {
   "cell_type": "code",
   "execution_count": null,
   "id": "80f0b18e-5c76-464b-b3ae-aa921e831fe8",
   "metadata": {},
   "outputs": [],
   "source": []
  },
  {
   "cell_type": "code",
   "execution_count": 40,
   "id": "f32a5679-71d1-4d1a-a0fc-328f7f7759e2",
   "metadata": {},
   "outputs": [
    {
     "data": {
      "text/html": [
       "<div>\n",
       "<style scoped>\n",
       "    .dataframe tbody tr th:only-of-type {\n",
       "        vertical-align: middle;\n",
       "    }\n",
       "\n",
       "    .dataframe tbody tr th {\n",
       "        vertical-align: top;\n",
       "    }\n",
       "\n",
       "    .dataframe thead th {\n",
       "        text-align: right;\n",
       "    }\n",
       "</style>\n",
       "<table border=\"1\" class=\"dataframe\">\n",
       "  <thead>\n",
       "    <tr style=\"text-align: right;\">\n",
       "      <th></th>\n",
       "      <th>ReviewID</th>\n",
       "      <th>CustomerID</th>\n",
       "      <th>ProductID</th>\n",
       "      <th>ReviewDate</th>\n",
       "      <th>Rating</th>\n",
       "      <th>ReviewText</th>\n",
       "    </tr>\n",
       "  </thead>\n",
       "  <tbody>\n",
       "    <tr>\n",
       "      <th>0</th>\n",
       "      <td>1</td>\n",
       "      <td>77</td>\n",
       "      <td>18</td>\n",
       "      <td>2023-12-23</td>\n",
       "      <td>3</td>\n",
       "      <td>Average  experience,  nothing  special.</td>\n",
       "    </tr>\n",
       "    <tr>\n",
       "      <th>1</th>\n",
       "      <td>2</td>\n",
       "      <td>80</td>\n",
       "      <td>19</td>\n",
       "      <td>2024-12-25</td>\n",
       "      <td>5</td>\n",
       "      <td>The  quality  is    top-notch.</td>\n",
       "    </tr>\n",
       "    <tr>\n",
       "      <th>2</th>\n",
       "      <td>3</td>\n",
       "      <td>50</td>\n",
       "      <td>13</td>\n",
       "      <td>2025-01-26</td>\n",
       "      <td>4</td>\n",
       "      <td>Five  stars  for  the  quick  delivery.</td>\n",
       "    </tr>\n",
       "    <tr>\n",
       "      <th>3</th>\n",
       "      <td>4</td>\n",
       "      <td>78</td>\n",
       "      <td>15</td>\n",
       "      <td>2025-04-21</td>\n",
       "      <td>3</td>\n",
       "      <td>Good  quality,  but  could  be  cheaper.</td>\n",
       "    </tr>\n",
       "    <tr>\n",
       "      <th>4</th>\n",
       "      <td>5</td>\n",
       "      <td>64</td>\n",
       "      <td>2</td>\n",
       "      <td>2023-07-16</td>\n",
       "      <td>3</td>\n",
       "      <td>Average  experience,  nothing  special.</td>\n",
       "    </tr>\n",
       "  </tbody>\n",
       "</table>\n",
       "</div>"
      ],
      "text/plain": [
       "   ReviewID  CustomerID  ProductID  ReviewDate  Rating  \\\n",
       "0         1          77         18  2023-12-23       3   \n",
       "1         2          80         19  2024-12-25       5   \n",
       "2         3          50         13  2025-01-26       4   \n",
       "3         4          78         15  2025-04-21       3   \n",
       "4         5          64          2  2023-07-16       3   \n",
       "\n",
       "                                 ReviewText  \n",
       "0   Average  experience,  nothing  special.  \n",
       "1            The  quality  is    top-notch.  \n",
       "2   Five  stars  for  the  quick  delivery.  \n",
       "3  Good  quality,  but  could  be  cheaper.  \n",
       "4   Average  experience,  nothing  special.  "
      ]
     },
     "execution_count": 40,
     "metadata": {},
     "output_type": "execute_result"
    }
   ],
   "source": [
    "# Read the customer_reviews.csv file\n",
    "\n",
    "df3 = pd.read_csv(\"customer_reviews.csv\")\n",
    "\n",
    "df3.head()\n"
   ]
  },
  {
   "cell_type": "code",
   "execution_count": 41,
   "id": "c51d9e0f-78a6-4deb-8c12-cf3083f2efb8",
   "metadata": {},
   "outputs": [
    {
     "name": "stdout",
     "output_type": "stream",
     "text": [
      "ReviewID      0\n",
      "CustomerID    0\n",
      "ProductID     0\n",
      "ReviewDate    0\n",
      "Rating        0\n",
      "ReviewText    0\n",
      "dtype: int64\n"
     ]
    }
   ],
   "source": [
    "print(df3.isnull().sum())"
   ]
  },
  {
   "cell_type": "code",
   "execution_count": 42,
   "id": "fd8032d1-c413-4d1f-afbb-7750f9b529e5",
   "metadata": {},
   "outputs": [
    {
     "data": {
      "text/plain": [
       "np.int64(0)"
      ]
     },
     "execution_count": 42,
     "metadata": {},
     "output_type": "execute_result"
    }
   ],
   "source": [
    "df3.duplicated().sum()"
   ]
  },
  {
   "cell_type": "code",
   "execution_count": 44,
   "id": "7177d77b-a7fc-4df9-b3c9-e12605f0a7ab",
   "metadata": {},
   "outputs": [
    {
     "name": "stdout",
     "output_type": "stream",
     "text": [
      "Data inserted successfully!\n"
     ]
    }
   ],
   "source": [
    "# Insert data into the customer_reviews table\n",
    "\n",
    "for _, row in df3.iterrows():\n",
    "    sql = \"\"\"\n",
    "    INSERT IGNORE INTO customer_reviews (ReviewID, CustomerID, ProductID, ReviewDate, Rating, ReviewText) \n",
    "    VALUES (%s, %s, %s, %s, %s, %s)\n",
    "    \"\"\"\n",
    "    cursor.execute(sql, tuple(row))\n",
    "\n",
    "# Commit and close connection\n",
    "conn.commit()\n",
    "cursor.close()\n",
    "conn.close()\n",
    "\n",
    "print(\"Data inserted successfully!\")\n"
   ]
  },
  {
   "cell_type": "code",
   "execution_count": null,
   "id": "e41eb741-1d8b-4bd3-893d-f47eaf772b63",
   "metadata": {},
   "outputs": [],
   "source": []
  },
  {
   "cell_type": "code",
   "execution_count": 6,
   "id": "0309949f-2d6d-4900-8e96-906e9307b5b2",
   "metadata": {},
   "outputs": [
    {
     "data": {
      "text/html": [
       "<div>\n",
       "<style scoped>\n",
       "    .dataframe tbody tr th:only-of-type {\n",
       "        vertical-align: middle;\n",
       "    }\n",
       "\n",
       "    .dataframe tbody tr th {\n",
       "        vertical-align: top;\n",
       "    }\n",
       "\n",
       "    .dataframe thead th {\n",
       "        text-align: right;\n",
       "    }\n",
       "</style>\n",
       "<table border=\"1\" class=\"dataframe\">\n",
       "  <thead>\n",
       "    <tr style=\"text-align: right;\">\n",
       "      <th></th>\n",
       "      <th>JourneyID</th>\n",
       "      <th>CustomerID</th>\n",
       "      <th>ProductID</th>\n",
       "      <th>VisitDate</th>\n",
       "      <th>Stage</th>\n",
       "      <th>Action</th>\n",
       "      <th>Duration</th>\n",
       "    </tr>\n",
       "  </thead>\n",
       "  <tbody>\n",
       "    <tr>\n",
       "      <th>0</th>\n",
       "      <td>1</td>\n",
       "      <td>64</td>\n",
       "      <td>18</td>\n",
       "      <td>2024-06-10</td>\n",
       "      <td>Checkout</td>\n",
       "      <td>Drop-off</td>\n",
       "      <td>NaN</td>\n",
       "    </tr>\n",
       "    <tr>\n",
       "      <th>1</th>\n",
       "      <td>2</td>\n",
       "      <td>94</td>\n",
       "      <td>11</td>\n",
       "      <td>2025-07-09</td>\n",
       "      <td>Checkout</td>\n",
       "      <td>Drop-off</td>\n",
       "      <td>NaN</td>\n",
       "    </tr>\n",
       "    <tr>\n",
       "      <th>2</th>\n",
       "      <td>3</td>\n",
       "      <td>34</td>\n",
       "      <td>8</td>\n",
       "      <td>2024-06-14</td>\n",
       "      <td>ProductPage</td>\n",
       "      <td>View</td>\n",
       "      <td>235.0</td>\n",
       "    </tr>\n",
       "    <tr>\n",
       "      <th>3</th>\n",
       "      <td>4</td>\n",
       "      <td>33</td>\n",
       "      <td>18</td>\n",
       "      <td>2025-05-28</td>\n",
       "      <td>Checkout</td>\n",
       "      <td>Drop-off</td>\n",
       "      <td>NaN</td>\n",
       "    </tr>\n",
       "    <tr>\n",
       "      <th>4</th>\n",
       "      <td>5</td>\n",
       "      <td>91</td>\n",
       "      <td>10</td>\n",
       "      <td>2023-02-11</td>\n",
       "      <td>Homepage</td>\n",
       "      <td>Click</td>\n",
       "      <td>156.0</td>\n",
       "    </tr>\n",
       "  </tbody>\n",
       "</table>\n",
       "</div>"
      ],
      "text/plain": [
       "   JourneyID  CustomerID  ProductID   VisitDate        Stage    Action  \\\n",
       "0          1          64         18  2024-06-10     Checkout  Drop-off   \n",
       "1          2          94         11  2025-07-09     Checkout  Drop-off   \n",
       "2          3          34          8  2024-06-14  ProductPage      View   \n",
       "3          4          33         18  2025-05-28     Checkout  Drop-off   \n",
       "4          5          91         10  2023-02-11     Homepage     Click   \n",
       "\n",
       "   Duration  \n",
       "0       NaN  \n",
       "1       NaN  \n",
       "2     235.0  \n",
       "3       NaN  \n",
       "4     156.0  "
      ]
     },
     "execution_count": 6,
     "metadata": {},
     "output_type": "execute_result"
    }
   ],
   "source": [
    "# Read the customer_journey.csv file\n",
    "\n",
    "df4 = pd.read_csv(\"customer_journey.csv\")\n",
    "\n",
    "df4.head()\n"
   ]
  },
  {
   "cell_type": "code",
   "execution_count": 7,
   "id": "87b9a7be-5485-49c3-a0df-9300155fe4a5",
   "metadata": {},
   "outputs": [
    {
     "name": "stdout",
     "output_type": "stream",
     "text": [
      "JourneyID      0\n",
      "CustomerID     0\n",
      "ProductID      0\n",
      "VisitDate      0\n",
      "Stage          0\n",
      "Action         0\n",
      "Duration      14\n",
      "dtype: int64\n"
     ]
    }
   ],
   "source": [
    "print(df4.isnull().sum())"
   ]
  },
  {
   "cell_type": "code",
   "execution_count": 8,
   "id": "f9e328f4-2a48-41cf-9c5e-6aab2cc4a0db",
   "metadata": {},
   "outputs": [],
   "source": [
    "df4.fillna(df4.mean(numeric_only=True), inplace=True)\n",
    "df4.to_csv(\"customer_journey_filled.csv\", index=False)\n"
   ]
  },
  {
   "cell_type": "code",
   "execution_count": 9,
   "id": "1ca9585d-2c17-46b4-b786-e86e99f7449d",
   "metadata": {},
   "outputs": [
    {
     "name": "stdout",
     "output_type": "stream",
     "text": [
      "JourneyID     0\n",
      "CustomerID    0\n",
      "ProductID     0\n",
      "VisitDate     0\n",
      "Stage         0\n",
      "Action        0\n",
      "Duration      0\n",
      "dtype: int64\n"
     ]
    }
   ],
   "source": [
    "print(df4.isnull().sum())"
   ]
  },
  {
   "cell_type": "code",
   "execution_count": 10,
   "id": "5b4ac740-ac19-4437-beca-5bec6d6ff1d4",
   "metadata": {},
   "outputs": [
    {
     "data": {
      "text/plain": [
       "np.int64(0)"
      ]
     },
     "execution_count": 10,
     "metadata": {},
     "output_type": "execute_result"
    }
   ],
   "source": [
    "df4.duplicated().sum()"
   ]
  },
  {
   "cell_type": "code",
   "execution_count": 11,
   "id": "eb519251-f2e4-421a-a485-cb675537f175",
   "metadata": {},
   "outputs": [
    {
     "name": "stdout",
     "output_type": "stream",
     "text": [
      "Data inserted successfully!\n"
     ]
    }
   ],
   "source": [
    "# Insert data into the customer_journey table\n",
    "\n",
    "for _, row in df4.iterrows():\n",
    "    sql = \"\"\"\n",
    "    INSERT IGNORE INTO customer_journey (JourneyID, CustomerID, ProductID, VisitDate, Stage, Action, Duration) \n",
    "    VALUES (%s, %s, %s, %s, %s, %s, %s)\n",
    "    \"\"\"\n",
    "    cursor.execute(sql, tuple(row))\n",
    "\n",
    "# Commit and close connection\n",
    "conn.commit()\n",
    "cursor.close()\n",
    "conn.close()\n",
    "\n",
    "print(\"Data inserted successfully!\")\n"
   ]
  },
  {
   "cell_type": "code",
   "execution_count": null,
   "id": "52a1f687-5a37-4ef0-9f79-9cafab3f8f22",
   "metadata": {},
   "outputs": [],
   "source": []
  },
  {
   "cell_type": "code",
   "execution_count": 13,
   "id": "28bef56d-d56a-495f-802d-a0ed89750184",
   "metadata": {},
   "outputs": [
    {
     "name": "stdout",
     "output_type": "stream",
     "text": [
      "VisitDate column formatted successfully!\n"
     ]
    }
   ],
   "source": [
    "# Format VisitDate to a proper datetime format\n",
    "\n",
    "# Convert VisitDate to datetime format\n",
    "customer_journey[\"VisitDate\"] = pd.to_datetime(customer_journey[\"VisitDate\"], errors=\"coerce\")\n",
    "\n",
    "# Save the updated dataset\n",
    "customer_journey.to_csv(\"customer_journey_formatted.csv\", index=False)\n",
    "\n",
    "print(\"VisitDate column formatted successfully!\")\n"
   ]
  },
  {
   "cell_type": "code",
   "execution_count": null,
   "id": "098348e3-e383-4b4d-9300-7d8af9fc0e91",
   "metadata": {},
   "outputs": [],
   "source": []
  },
  {
   "cell_type": "code",
   "execution_count": 47,
   "id": "50991ed2-aff7-440e-85db-9f279151f739",
   "metadata": {},
   "outputs": [
    {
     "data": {
      "text/html": [
       "<div>\n",
       "<style scoped>\n",
       "    .dataframe tbody tr th:only-of-type {\n",
       "        vertical-align: middle;\n",
       "    }\n",
       "\n",
       "    .dataframe tbody tr th {\n",
       "        vertical-align: top;\n",
       "    }\n",
       "\n",
       "    .dataframe thead th {\n",
       "        text-align: right;\n",
       "    }\n",
       "</style>\n",
       "<table border=\"1\" class=\"dataframe\">\n",
       "  <thead>\n",
       "    <tr style=\"text-align: right;\">\n",
       "      <th></th>\n",
       "      <th>GeographyID</th>\n",
       "      <th>Country</th>\n",
       "      <th>City</th>\n",
       "    </tr>\n",
       "  </thead>\n",
       "  <tbody>\n",
       "    <tr>\n",
       "      <th>0</th>\n",
       "      <td>1</td>\n",
       "      <td>UK</td>\n",
       "      <td>London</td>\n",
       "    </tr>\n",
       "    <tr>\n",
       "      <th>1</th>\n",
       "      <td>2</td>\n",
       "      <td>Germany</td>\n",
       "      <td>Berlin</td>\n",
       "    </tr>\n",
       "    <tr>\n",
       "      <th>2</th>\n",
       "      <td>3</td>\n",
       "      <td>France</td>\n",
       "      <td>Paris</td>\n",
       "    </tr>\n",
       "    <tr>\n",
       "      <th>3</th>\n",
       "      <td>4</td>\n",
       "      <td>Spain</td>\n",
       "      <td>Madrid</td>\n",
       "    </tr>\n",
       "    <tr>\n",
       "      <th>4</th>\n",
       "      <td>5</td>\n",
       "      <td>Italy</td>\n",
       "      <td>Rome</td>\n",
       "    </tr>\n",
       "  </tbody>\n",
       "</table>\n",
       "</div>"
      ],
      "text/plain": [
       "   GeographyID  Country    City\n",
       "0            1       UK  London\n",
       "1            2  Germany  Berlin\n",
       "2            3   France   Paris\n",
       "3            4    Spain  Madrid\n",
       "4            5    Italy    Rome"
      ]
     },
     "execution_count": 47,
     "metadata": {},
     "output_type": "execute_result"
    }
   ],
   "source": [
    "# Read the geography.csv file\n",
    "\n",
    "df5 = pd.read_csv(\"geography.csv\")\n",
    "\n",
    "df5.head()\n",
    "\n",
    "\n"
   ]
  },
  {
   "cell_type": "code",
   "execution_count": 48,
   "id": "9a380c69-0d95-4915-8f0e-eb461abdab27",
   "metadata": {},
   "outputs": [
    {
     "name": "stdout",
     "output_type": "stream",
     "text": [
      "GeographyID    0\n",
      "Country        0\n",
      "City           0\n",
      "dtype: int64\n"
     ]
    }
   ],
   "source": [
    "print(df5.isnull().sum())"
   ]
  },
  {
   "cell_type": "code",
   "execution_count": 49,
   "id": "6de80191-4819-4e43-8f5b-c6df3571bc43",
   "metadata": {},
   "outputs": [
    {
     "data": {
      "text/plain": [
       "np.int64(0)"
      ]
     },
     "execution_count": 49,
     "metadata": {},
     "output_type": "execute_result"
    }
   ],
   "source": [
    "df5.duplicated().sum()"
   ]
  },
  {
   "cell_type": "code",
   "execution_count": 51,
   "id": "34a44f59-e6b4-43cc-b73c-3d2eded62f20",
   "metadata": {},
   "outputs": [
    {
     "name": "stdout",
     "output_type": "stream",
     "text": [
      "Data inserted successfully!\n"
     ]
    }
   ],
   "source": [
    "# Insert data into the geography table\n",
    "\n",
    "for _, row in df5.iterrows():\n",
    "    sql = \"\"\"\n",
    "    INSERT IGNORE INTO geography (GeographyID, Country, City) \n",
    "    VALUES (%s, %s, %s)\n",
    "    \"\"\"\n",
    "    cursor.execute(sql, tuple(row))\n",
    "\n",
    "# Commit and close connection\n",
    "conn.commit()\n",
    "cursor.close()\n",
    "conn.close()\n",
    "\n",
    "print(\"Data inserted successfully!\")\n"
   ]
  },
  {
   "cell_type": "code",
   "execution_count": 11,
   "id": "90074daf-3210-46b5-b2e3-6bb28d2a1ea4",
   "metadata": {},
   "outputs": [],
   "source": []
  },
  {
   "cell_type": "markdown",
   "id": "389e3296-b0b9-47f1-a52c-cad8db851152",
   "metadata": {},
   "source": [
    "# Customer Journey Analysis:"
   ]
  },
  {
   "cell_type": "code",
   "execution_count": null,
   "id": "f782e5e6-0aed-4af5-80dc-80fbba29bb4e",
   "metadata": {},
   "outputs": [],
   "source": [
    "# Merging customers, customer_journey, products and customer_reviews data set.\n"
   ]
  },
  {
   "cell_type": "code",
   "execution_count": 14,
   "id": "4c9631da-9b7d-4838-bc86-7e532d8a60b9",
   "metadata": {},
   "outputs": [
    {
     "name": "stdout",
     "output_type": "stream",
     "text": [
      "Datasets successfully merged and saved as 'integrated_data.csv'.\n"
     ]
    }
   ],
   "source": [
    "customers = pd.read_csv(\"customers.csv\")\n",
    "customer_journey = pd.read_csv(\"customer_journey_formatted.csv\")  # Using the cleaned dataset\n",
    "products = pd.read_csv(\"products.csv\")\n",
    "customer_reviews = pd.read_csv(\"customer_reviews.csv\")\n",
    "\n",
    "# Perform joins\n",
    "merged_df = (customer_journey\n",
    "             .merge(customers, on=\"CustomerID\", how=\"inner\")\n",
    "             .merge(products, on=\"ProductID\", how=\"inner\")\n",
    "             .merge(customer_reviews, on=[\"CustomerID\", \"ProductID\"], how=\"left\"))  # Left join to keep all journeys\n",
    "\n",
    "# Save the integrated dataset\n",
    "merged_df.to_csv(\"integrated_data.csv\", index=False)\n",
    "\n",
    "print(\"Datasets successfully merged and saved as 'integrated_data.csv'.\")\n"
   ]
  },
  {
   "cell_type": "markdown",
   "id": "00a8af27-dec1-4eb3-8bc9-0e569689a396",
   "metadata": {},
   "source": []
  },
  {
   "cell_type": "code",
   "execution_count": null,
   "id": "7d104ec7-8464-47ac-b2a3-391fe2a2dd97",
   "metadata": {},
   "outputs": [],
   "source": [
    "# The drop-off, view, and click count per stage \n"
   ]
  },
  {
   "cell_type": "code",
   "execution_count": 15,
   "id": "1c16ba1a-d479-4eae-ad2b-1730f3322200",
   "metadata": {},
   "outputs": [],
   "source": [
    "# Standardize stage names (convert to lowercase and strip spaces)\n",
    "customer_journey[\"Stage\"] = customer_journey[\"Stage\"].str.strip().str.lower()\n",
    "\n",
    "# Sort by CustomerID and VisitDate\n",
    "customer_journey.sort_values(by=[\"CustomerID\", \"VisitDate\"], inplace=True)\n",
    "\n",
    "# Identify drop-off points\n",
    "customer_journey[\"NextStage\"] = customer_journey.groupby(\"CustomerID\")[\"Stage\"].shift(-1)\n",
    "\n",
    "drop_off_counts = customer_journey[customer_journey[\"NextStage\"].isna()].groupby(\"Stage\").size().reset_index(name=\"DropOffCount\")\n",
    "view_counts = customer_journey[customer_journey[\"Action\"] == \"View\"].groupby(\"Stage\").size().reset_index(name=\"ViewCount\")\n",
    "click_counts = customer_journey[customer_journey[\"Action\"] == \"Click\"].groupby(\"Stage\").size().reset_index(name=\"ClickCount\")\n"
   ]
  },
  {
   "cell_type": "code",
   "execution_count": 16,
   "id": "6f8669d2-e604-439d-8f1f-db605288c058",
   "metadata": {},
   "outputs": [
    {
     "name": "stdout",
     "output_type": "stream",
     "text": [
      "         Stage  DropOffCount  ViewCount  ClickCount\n",
      "0     checkout            13        0.0         0.0\n",
      "1     homepage            32       37.0        17.0\n",
      "2  productpage            20       21.0         5.0\n"
     ]
    }
   ],
   "source": [
    "# Merge counts\n",
    "non_conversion_stats = drop_off_counts.merge(view_counts, on=\"Stage\", how=\"outer\").merge(click_counts, on=\"Stage\", how=\"outer\")\n",
    "\n",
    "# Fill NaN values with 0\n",
    "non_conversion_stats.fillna(0, inplace=True)\n",
    "\n",
    "# Display results\n",
    "print(non_conversion_stats)\n"
   ]
  },
  {
   "cell_type": "code",
   "execution_count": null,
   "id": "104fe946-a57c-45af-ab2a-c95eaba3f86b",
   "metadata": {},
   "outputs": [],
   "source": []
  },
  {
   "cell_type": "code",
   "execution_count": null,
   "id": "3a34ad4c-0028-422d-a6e9-b4895f20a700",
   "metadata": {},
   "outputs": [],
   "source": []
  },
  {
   "cell_type": "code",
   "execution_count": null,
   "id": "304de026-58d2-492c-a2ed-569dff80e0ec",
   "metadata": {},
   "outputs": [],
   "source": [
    "# Find common actions leading to successful conversions."
   ]
  },
  {
   "cell_type": "code",
   "execution_count": 20,
   "id": "5bc73371-a01b-4224-bd30-5183b4569913",
   "metadata": {},
   "outputs": [
    {
     "name": "stdout",
     "output_type": "stream",
     "text": [
      "     Action  Action_Count\n",
      "0      View             2\n",
      "1  Drop-off             1\n"
     ]
    }
   ],
   "source": [
    "# Query to get customer actions before purchase\n",
    "query = \"\"\"\n",
    "WITH PurchaseEvents AS (\n",
    "    SELECT CustomerID, VisitDate\n",
    "    FROM customer_journey\n",
    "    WHERE Stage = 'Checkout' AND Action = 'Purchase'\n",
    ")\n",
    "SELECT cj.Action, COUNT(*) AS Action_Count\n",
    "FROM customer_journey cj\n",
    "JOIN PurchaseEvents pe\n",
    "ON cj.CustomerID = pe.CustomerID\n",
    "WHERE cj.VisitDate < pe.VisitDate  -- Actions before purchase\n",
    "GROUP BY cj.Action\n",
    "ORDER BY Action_Count DESC;\n",
    "\"\"\"\n",
    "\n",
    "cursor = conn.cursor()\n",
    "cursor.execute(query)\n",
    "\n",
    "# Fetch results into DataFrame\n",
    "df6 = pd.DataFrame(cursor.fetchall(), columns=[i[0] for i in cursor.description])\n",
    "\n",
    "# Close connection\n",
    "cursor.close()\n",
    "conn.close()\n",
    "\n",
    "# Display top actions\n",
    "print(df6)\n"
   ]
  },
  {
   "cell_type": "code",
   "execution_count": null,
   "id": "5ab8cff5-f0bc-4210-862d-1f5177bdb027",
   "metadata": {},
   "outputs": [],
   "source": []
  },
  {
   "cell_type": "code",
   "execution_count": 40,
   "id": "62f2326a-d853-4874-a379-83ad12a7af36",
   "metadata": {},
   "outputs": [
    {
     "name": "stdout",
     "output_type": "stream",
     "text": [
      "        stage  avg_duration_days\n",
      "0    Homepage           119.4500\n",
      "1  ProductPag            42.7083\n",
      "2    Checkout             6.3684\n"
     ]
    },
    {
     "name": "stderr",
     "output_type": "stream",
     "text": [
      "C:\\Users\\bhuvi\\AppData\\Local\\Temp\\ipykernel_9152\\4058401645.py:22: UserWarning: pandas only supports SQLAlchemy connectable (engine/connection) or database string URI or sqlite3 DBAPI2 connection. Other DBAPI2 objects are not tested. Please consider using SQLAlchemy.\n",
      "  df7 = pd.read_sql_query(query1, conn)\n"
     ]
    }
   ],
   "source": [
    "# Calculate average duration per stage for engagement insights.\n",
    "\n",
    "query1 = \"\"\"\n",
    "    WITH customer_stage_durations AS (\n",
    "    SELECT \n",
    "        customerid, \n",
    "        stage, \n",
    "        DATEDIFF(MAX(VisitDate), MIN(VisitDate)) AS duration_days\n",
    "    FROM customer_journey\n",
    "    GROUP BY customerid, stage\n",
    ")\n",
    "SELECT \n",
    "    stage, \n",
    "    AVG(duration_days) AS avg_duration_days\n",
    "FROM customer_stage_durations\n",
    "GROUP BY stage\n",
    "ORDER BY avg_duration_days DESC;\n",
    "\"\"\"\n",
    "\n",
    "\n",
    "# Execute Query using `pd.read_sql_query()\n",
    "df7 = pd.read_sql_query(query1, conn)\n",
    "\n",
    "# Display the result\n",
    "print(df7)\n",
    "\n",
    "# Close the connection\n",
    "conn.close()"
   ]
  },
  {
   "cell_type": "code",
   "execution_count": null,
   "id": "90d52f71-5ceb-4995-ada6-e8719b5e0dc9",
   "metadata": {},
   "outputs": [],
   "source": []
  },
  {
   "cell_type": "code",
   "execution_count": null,
   "id": "9fa9c095-478c-4c71-9c44-d0c58baae55c",
   "metadata": {},
   "outputs": [],
   "source": [
    "# Final validation:"
   ]
  },
  {
   "cell_type": "code",
   "execution_count": 45,
   "id": "e85e9697-5537-4f35-a5e0-979dc5b54a06",
   "metadata": {},
   "outputs": [],
   "source": [
    "#Connect to MySQL\n",
    "\n",
    "conn = db.connect(\n",
    "    host=\"localhost\",\n",
    "    user=\"shopeasy_db\",\n",
    "    password=\"shopeasy@123\",\n",
    "    database=\"shopeasy\"\n",
    ")\n",
    "cursor = conn.cursor()"
   ]
  },
  {
   "cell_type": "code",
   "execution_count": 46,
   "id": "e989fcb4-af52-49c8-a722-111d5260d0ae",
   "metadata": {},
   "outputs": [
    {
     "name": "stdout",
     "output_type": "stream",
     "text": [
      "Average Duration Per Stage:\n",
      "         stage  avg_duration_days\n",
      "0    Homepage           119.4500\n",
      "1  ProductPag            42.7083\n",
      "2    Checkout             6.3684\n",
      "\n",
      "Validation Data:\n",
      "         stage  MIN(duration_days)  MAX(duration_days)  AVG(duration_days)\n",
      "0    Checkout                   0                 121              6.3684\n",
      "1  ProductPag                   0                 596             42.7083\n",
      "2    Homepage                   0                 727            119.4500\n"
     ]
    },
    {
     "name": "stderr",
     "output_type": "stream",
     "text": [
      "C:\\Users\\bhuvi\\AppData\\Local\\Temp\\ipykernel_9152\\1381440486.py:19: UserWarning: pandas only supports SQLAlchemy connectable (engine/connection) or database string URI or sqlite3 DBAPI2 connection. Other DBAPI2 objects are not tested. Please consider using SQLAlchemy.\n",
      "  df8 = pd.read_sql_query(query2, conn)\n",
      "C:\\Users\\bhuvi\\AppData\\Local\\Temp\\ipykernel_9152\\1381440486.py:33: UserWarning: pandas only supports SQLAlchemy connectable (engine/connection) or database string URI or sqlite3 DBAPI2 connection. Other DBAPI2 objects are not tested. Please consider using SQLAlchemy.\n",
      "  df9 = pd.read_sql_query(query3, conn)\n"
     ]
    }
   ],
   "source": [
    "# Query 1: Calculate average duration per stage\n",
    "query2 = \"\"\"\n",
    "    SELECT \n",
    "        stage, \n",
    "        AVG(duration_days) AS avg_duration_days\n",
    "    FROM (\n",
    "        SELECT \n",
    "            customerid, \n",
    "            stage, \n",
    "            DATEDIFF(MAX(VisitDate), MIN(VisitDate)) AS duration_days\n",
    "        FROM customer_journey\n",
    "        GROUP BY customerid, stage\n",
    "    ) sub\n",
    "    GROUP BY stage\n",
    "    ORDER BY avg_duration_days DESC;\n",
    "\n",
    "\"\"\"\n",
    "\n",
    "df8 = pd.read_sql_query(query2, conn)\n",
    "print(\"Average Duration Per Stage:\\n\", df8)\n",
    "\n",
    "# Query 2: Validate with min, max, avg duration per stage\n",
    "query3 = \"\"\"\n",
    "    SELECT stage, MIN(duration_days), MAX(duration_days), AVG(duration_days)\n",
    "    FROM (\n",
    "        SELECT customerid, stage, DATEDIFF(MAX(VisitDate), MIN(VisitDate)) AS duration_days\n",
    "        FROM customer_journey\n",
    "        GROUP BY customerid, stage\n",
    "    ) sub\n",
    "    GROUP BY stage;\n",
    "\"\"\"\n",
    "\n",
    "df9 = pd.read_sql_query(query3, conn)\n",
    "print(\"\\nValidation Data:\\n\", df9)\n",
    "\n",
    "# Close connection\n",
    "conn.close()"
   ]
  },
  {
   "cell_type": "code",
   "execution_count": null,
   "id": "0bb5385c-4d48-4529-a819-6585106a0fda",
   "metadata": {},
   "outputs": [],
   "source": []
  },
  {
   "cell_type": "markdown",
   "id": "f019ae77-4d1a-42c4-9a57-7a08967d9729",
   "metadata": {},
   "source": [
    "# Customer Reviews Analysis (SQL & Python):"
   ]
  },
  {
   "cell_type": "code",
   "execution_count": null,
   "id": "4e4e5b29-4862-4ea3-882b-7ba1645612ba",
   "metadata": {},
   "outputs": [],
   "source": [
    "# Highest-Rated Products "
   ]
  },
  {
   "cell_type": "code",
   "execution_count": 57,
   "id": "3d5b92b8-33e6-48bb-82e4-f0977aa2a718",
   "metadata": {},
   "outputs": [],
   "source": [
    "#Connect to MySQL\n",
    "\n",
    "conn = db.connect(\n",
    "    host=\"localhost\",\n",
    "    user=\"shopeasy_db\",\n",
    "    password=\"shopeasy@123\",\n",
    "    database=\"shopeasy\"\n",
    ")\n",
    "cursor = conn.cursor()\n"
   ]
  },
  {
   "cell_type": "code",
   "execution_count": 58,
   "id": "fe92dc9b-4cde-451b-a81c-c62bc29b7b43",
   "metadata": {},
   "outputs": [
    {
     "name": "stderr",
     "output_type": "stream",
     "text": [
      "C:\\Users\\bhuvi\\AppData\\Local\\Temp\\ipykernel_9152\\563172232.py:25: UserWarning: pandas only supports SQLAlchemy connectable (engine/connection) or database string URI or sqlite3 DBAPI2 connection. Other DBAPI2 objects are not tested. Please consider using SQLAlchemy.\n",
      "  highest_rated_df = pd.read_sql_query(query_highest, conn)\n",
      "C:\\Users\\bhuvi\\AppData\\Local\\Temp\\ipykernel_9152\\563172232.py:26: UserWarning: pandas only supports SQLAlchemy connectable (engine/connection) or database string URI or sqlite3 DBAPI2 connection. Other DBAPI2 objects are not tested. Please consider using SQLAlchemy.\n",
      "  lowest_rated_df = pd.read_sql_query(query_lowest, conn)\n"
     ]
    }
   ],
   "source": [
    "# Query to get highest-rated products\n",
    "query_highest = \"\"\"\n",
    "    SELECT cr.productid, p.productname, \n",
    "           ROUND(AVG(cr.rating), 2) AS avg_rating, \n",
    "           COUNT(cr.rating) AS total_reviews\n",
    "    FROM customer_reviews cr\n",
    "    JOIN products p ON cr.productid = p.productid\n",
    "    GROUP BY cr.productid, p.productname\n",
    "    ORDER BY avg_rating DESC;\n",
    "\"\"\"\n",
    "\n",
    "# Query to get lowest-rated products\n",
    "query_lowest = \"\"\"\n",
    "    SELECT cr.productid, p.productname, \n",
    "           ROUND(AVG(cr.rating), 2) AS avg_rating, \n",
    "           COUNT(cr.rating) AS total_reviews\n",
    "    FROM customer_reviews cr\n",
    "    JOIN products p ON cr.productid = p.productid\n",
    "    GROUP BY cr.productid, p.productname\n",
    "    HAVING avg_rating <= 3.0\n",
    "    ORDER BY avg_rating ASC;\n",
    "\"\"\"\n",
    "\n",
    "# Fetch results\n",
    "highest_rated_df = pd.read_sql_query(query_highest, conn)\n",
    "lowest_rated_df = pd.read_sql_query(query_lowest, conn)\n",
    "\n",
    "# Close the connection\n",
    "conn.close()\n"
   ]
  },
  {
   "cell_type": "code",
   "execution_count": 59,
   "id": "e36d242e-5051-434d-bd41-f44c0dc43676",
   "metadata": {},
   "outputs": [
    {
     "name": "stdout",
     "output_type": "stream",
     "text": [
      "Highest-Rated Products:\n",
      "     productid      productname  avg_rating  total_reviews\n",
      "0           8  Football Helmet        5.00              3\n",
      "1          19     Hockey Stick        4.40              5\n",
      "2          18       Volleyball        4.00              3\n",
      "3          15    Climbing Rope        4.00              6\n",
      "4           1    Running Shoes        4.00              4\n",
      "5          11        Ski Boots        4.00              6\n",
      "6          20    Boxing Gloves        4.00              2\n",
      "7           5      Soccer Ball        4.00              3\n",
      "8          17        Surfboard        3.89              9\n",
      "9           6    Tennis Racket        3.86              7\n",
      "10          3         Yoga Mat        3.71              7\n",
      "11         13     Swim Goggles        3.67              9\n",
      "12          2  Fitness Tracker        3.57              7\n",
      "13         10       Golf Clubs        3.50              4\n",
      "14          9   Baseball Glove        3.40              5\n",
      "15         16            Kayak        3.40             10\n",
      "16          4        Dumbbells        3.00              5\n",
      "17         12       Ice Skates        3.00              2\n",
      "18          7       Basketball        2.67              3\n",
      "\n",
      "Lowest-Rated Products:\n",
      "    productid productname  avg_rating  total_reviews\n",
      "0          7  Basketball        2.67              3\n",
      "1          4   Dumbbells        3.00              5\n",
      "2         12  Ice Skates        3.00              2\n"
     ]
    }
   ],
   "source": [
    "print(\"Highest-Rated Products:\\n\", highest_rated_df)\n",
    "print(\"\\nLowest-Rated Products:\\n\", lowest_rated_df)"
   ]
  },
  {
   "cell_type": "code",
   "execution_count": null,
   "id": "af806371-2103-49de-a38c-5e9c8b2f3a45",
   "metadata": {},
   "outputs": [],
   "source": []
  },
  {
   "cell_type": "markdown",
   "id": "90925199-81d0-424f-a577-8262643639b6",
   "metadata": {},
   "source": [
    "# Basic Sentiment Analysis \n"
   ]
  },
  {
   "cell_type": "code",
   "execution_count": 63,
   "id": "b6c09c51-853b-456f-980c-bba68694b1cf",
   "metadata": {},
   "outputs": [
    {
     "name": "stdout",
     "output_type": "stream",
     "text": [
      "Collecting nltk\n",
      "  Downloading nltk-3.9.1-py3-none-any.whl.metadata (2.9 kB)\n",
      "Collecting click (from nltk)\n",
      "  Downloading click-8.1.8-py3-none-any.whl.metadata (2.3 kB)\n",
      "Requirement already satisfied: joblib in c:\\users\\bhuvi\\appdata\\local\\programs\\python\\python312\\lib\\site-packages (from nltk) (1.4.2)\n",
      "Collecting regex>=2021.8.3 (from nltk)\n",
      "  Downloading regex-2024.11.6-cp312-cp312-win_amd64.whl.metadata (41 kB)\n",
      "     ---------------------------------------- 0.0/41.5 kB ? eta -:--:--\n",
      "     --------- ------------------------------ 10.2/41.5 kB ? eta -:--:--\n",
      "     ------------------ ------------------- 20.5/41.5 kB 217.9 kB/s eta 0:00:01\n",
      "     -------------------------------------- 41.5/41.5 kB 333.1 kB/s eta 0:00:00\n",
      "Collecting tqdm (from nltk)\n",
      "  Downloading tqdm-4.67.1-py3-none-any.whl.metadata (57 kB)\n",
      "     ---------------------------------------- 0.0/57.7 kB ? eta -:--:--\n",
      "     ---------------------------- ----------- 41.0/57.7 kB 2.0 MB/s eta 0:00:01\n",
      "     ---------------------------------------- 57.7/57.7 kB 1.5 MB/s eta 0:00:00\n",
      "Requirement already satisfied: colorama in c:\\users\\bhuvi\\appdata\\local\\programs\\python\\python312\\lib\\site-packages (from click->nltk) (0.4.6)\n",
      "Downloading nltk-3.9.1-py3-none-any.whl (1.5 MB)\n",
      "   ---------------------------------------- 0.0/1.5 MB ? eta -:--:--\n",
      "   --- ------------------------------------ 0.1/1.5 MB 2.4 MB/s eta 0:00:01\n",
      "   ----- ---------------------------------- 0.2/1.5 MB 2.5 MB/s eta 0:00:01\n",
      "   -------- ------------------------------- 0.3/1.5 MB 2.3 MB/s eta 0:00:01\n",
      "   -------------- ------------------------- 0.6/1.5 MB 3.2 MB/s eta 0:00:01\n",
      "   ---------------- ----------------------- 0.6/1.5 MB 3.1 MB/s eta 0:00:01\n",
      "   ----------------------- ---------------- 0.9/1.5 MB 3.2 MB/s eta 0:00:01\n",
      "   --------------------------- ------------ 1.0/1.5 MB 3.1 MB/s eta 0:00:01\n",
      "   --------------------------------- ------ 1.3/1.5 MB 3.5 MB/s eta 0:00:01\n",
      "   -------------------------------------- - 1.5/1.5 MB 3.6 MB/s eta 0:00:01\n",
      "   ---------------------------------------- 1.5/1.5 MB 3.4 MB/s eta 0:00:00\n",
      "Downloading regex-2024.11.6-cp312-cp312-win_amd64.whl (273 kB)\n",
      "   ---------------------------------------- 0.0/273.6 kB ? eta -:--:--\n",
      "   ---------------------- ----------------- 153.6/273.6 kB 4.6 MB/s eta 0:00:01\n",
      "   ---------------------------------------- 273.6/273.6 kB 4.2 MB/s eta 0:00:00\n",
      "Downloading click-8.1.8-py3-none-any.whl (98 kB)\n",
      "   ---------------------------------------- 0.0/98.2 kB ? eta -:--:--\n",
      "   ---------------------------------------- 98.2/98.2 kB 5.5 MB/s eta 0:00:00\n",
      "Downloading tqdm-4.67.1-py3-none-any.whl (78 kB)\n",
      "   ---------------------------------------- 0.0/78.5 kB ? eta -:--:--\n",
      "   ---------------------------------------- 78.5/78.5 kB 4.6 MB/s eta 0:00:00\n",
      "Installing collected packages: tqdm, regex, click, nltk\n",
      "Successfully installed click-8.1.8 nltk-3.9.1 regex-2024.11.6 tqdm-4.67.1\n"
     ]
    },
    {
     "name": "stderr",
     "output_type": "stream",
     "text": [
      "\n",
      "[notice] A new release of pip is available: 24.0 -> 25.0.1\n",
      "[notice] To update, run: python.exe -m pip install --upgrade pip\n"
     ]
    }
   ],
   "source": [
    "!pip install nltk"
   ]
  },
  {
   "cell_type": "code",
   "execution_count": 65,
   "id": "2b0c81f0-fc48-47a0-b70f-753e54ead742",
   "metadata": {},
   "outputs": [
    {
     "name": "stderr",
     "output_type": "stream",
     "text": [
      "[nltk_data] Downloading package vader_lexicon to\n",
      "[nltk_data]     C:\\Users\\bhuvi\\AppData\\Roaming\\nltk_data...\n"
     ]
    }
   ],
   "source": [
    "from nltk.sentiment import SentimentIntensityAnalyzer\n",
    "import nltk\n",
    "\n",
    "# Download the VADER lexicon (only needed once)\n",
    "nltk.download('vader_lexicon')\n",
    "\n",
    "# Initialize Sentiment Analyzer\n",
    "sia = SentimentIntensityAnalyzer()\n"
   ]
  },
  {
   "cell_type": "code",
   "execution_count": 70,
   "id": "d346dafb-736a-448d-8e73-9f65be43f762",
   "metadata": {},
   "outputs": [],
   "source": [
    "#Connect to MySQL\n",
    "\n",
    "conn = db.connect(\n",
    "    host=\"localhost\",\n",
    "    user=\"shopeasy_db\",\n",
    "    password=\"shopeasy@123\",\n",
    "    database=\"shopeasy\"\n",
    ")\n",
    "cursor = conn.cursor()"
   ]
  },
  {
   "cell_type": "code",
   "execution_count": 71,
   "id": "93b5ef4d-5ac4-4cb6-b3e8-b1874692e285",
   "metadata": {},
   "outputs": [
    {
     "name": "stdout",
     "output_type": "stream",
     "text": [
      "   productid                                reviewtext  sentiment_score  \\\n",
      "0         18   Average  experience,  nothing  special.          -0.3089   \n",
      "1         19            The  quality  is    top-notch.           0.0000   \n",
      "2         13   Five  stars  for  the  quick  delivery.           0.0000   \n",
      "3         15  Good  quality,  but  could  be  cheaper.           0.2382   \n",
      "4          2   Average  experience,  nothing  special.          -0.3089   \n",
      "\n",
      "  sentiment  \n",
      "0  Negative  \n",
      "1   Neutral  \n",
      "2   Neutral  \n",
      "3  Positive  \n",
      "4  Negative  \n",
      "\n",
      "Sentiment Summary:\n",
      " sentiment\n",
      "Neutral     40\n",
      "Positive    36\n",
      "Negative    24\n",
      "Name: count, dtype: int64\n"
     ]
    },
    {
     "name": "stderr",
     "output_type": "stream",
     "text": [
      "C:\\Users\\bhuvi\\AppData\\Local\\Temp\\ipykernel_9152\\2922038888.py:3: UserWarning: pandas only supports SQLAlchemy connectable (engine/connection) or database string URI or sqlite3 DBAPI2 connection. Other DBAPI2 objects are not tested. Please consider using SQLAlchemy.\n",
      "  df_reviews = pd.read_sql_query(query4, conn)\n"
     ]
    }
   ],
   "source": [
    "# Fetch reviews\n",
    "query4 = \"SELECT productid, reviewtext FROM customer_reviews WHERE reviewtext IS NOT NULL;\"\n",
    "df_reviews = pd.read_sql_query(query4, conn)\n",
    "\n",
    "# Close the connection\n",
    "conn.close()\n",
    "\n",
    "# Apply sentiment analysis\n",
    "df_reviews['sentiment_score'] = df_reviews['reviewtext'].apply(lambda x: sia.polarity_scores(x)['compound'])\n",
    "\n",
    "# Categorize sentiment\n",
    "df_reviews['sentiment'] = df_reviews['sentiment_score'].apply(lambda x: 'Positive' if x > 0.05 else ('Negative' if x < -0.05 else 'Neutral'))\n",
    "\n",
    "# Summary of sentiment distribution\n",
    "sentiment_summary = df_reviews['sentiment'].value_counts()\n",
    "\n",
    "# Display first few results\n",
    "print(df_reviews.head())\n",
    "print(\"\\nSentiment Summary:\\n\", sentiment_summary)\n"
   ]
  },
  {
   "cell_type": "markdown",
   "id": "df47d763-874f-4245-9869-bc16dbaaeeef",
   "metadata": {},
   "source": []
  },
  {
   "cell_type": "markdown",
   "id": "575e5a95-9d29-4d8c-8f43-78adf7a1264e",
   "metadata": {},
   "source": [
    "# Correlate review trends with product performance:"
   ]
  },
  {
   "cell_type": "code",
   "execution_count": null,
   "id": "f93d124e-274e-44bf-9c9a-3042390abee8",
   "metadata": {},
   "outputs": [],
   "source": []
  },
  {
   "cell_type": "code",
   "execution_count": 79,
   "id": "a1c2a34a-e361-4572-bfc0-3f113ceca987",
   "metadata": {},
   "outputs": [],
   "source": [
    "# Aggregate sentiment per product\n",
    "sentiment_summary = df_reviews.groupby('productid').agg(\n",
    "    avg_sentiment=('sentiment_score', 'mean'),\n",
    "    total_reviews=('sentiment', 'count'),\n",
    "    positive_reviews=('sentiment', lambda x: (x == 'Positive').sum()),\n",
    "    negative_reviews=('sentiment', lambda x: (x == 'Negative').sum()),\n",
    "    neutral_reviews=('sentiment', lambda x: (x == 'Neutral').sum())\n",
    ").reset_index()\n",
    "\n",
    "# Merge with avg_rating data\n",
    "product_performance = sentiment_summary.merge(highest_rated_df[['productid', 'avg_rating']], on='productid', how='left')\n"
   ]
  },
  {
   "cell_type": "code",
   "execution_count": 81,
   "id": "53ddc912-f85d-477a-8242-94051590b04c",
   "metadata": {},
   "outputs": [
    {
     "data": {
      "text/html": [
       "<div>\n",
       "<style scoped>\n",
       "    .dataframe tbody tr th:only-of-type {\n",
       "        vertical-align: middle;\n",
       "    }\n",
       "\n",
       "    .dataframe tbody tr th {\n",
       "        vertical-align: top;\n",
       "    }\n",
       "\n",
       "    .dataframe thead th {\n",
       "        text-align: right;\n",
       "    }\n",
       "</style>\n",
       "<table border=\"1\" class=\"dataframe\">\n",
       "  <thead>\n",
       "    <tr style=\"text-align: right;\">\n",
       "      <th></th>\n",
       "      <th>productid</th>\n",
       "      <th>avg_sentiment</th>\n",
       "      <th>total_reviews</th>\n",
       "      <th>positive_reviews</th>\n",
       "      <th>negative_reviews</th>\n",
       "      <th>neutral_reviews</th>\n",
       "      <th>avg_rating</th>\n",
       "    </tr>\n",
       "  </thead>\n",
       "  <tbody>\n",
       "    <tr>\n",
       "      <th>0</th>\n",
       "      <td>1</td>\n",
       "      <td>0.272625</td>\n",
       "      <td>4</td>\n",
       "      <td>2</td>\n",
       "      <td>1</td>\n",
       "      <td>1</td>\n",
       "      <td>4.00</td>\n",
       "    </tr>\n",
       "    <tr>\n",
       "      <th>1</th>\n",
       "      <td>2</td>\n",
       "      <td>-0.034314</td>\n",
       "      <td>7</td>\n",
       "      <td>1</td>\n",
       "      <td>2</td>\n",
       "      <td>4</td>\n",
       "      <td>3.57</td>\n",
       "    </tr>\n",
       "    <tr>\n",
       "      <th>2</th>\n",
       "      <td>3</td>\n",
       "      <td>0.042700</td>\n",
       "      <td>7</td>\n",
       "      <td>1</td>\n",
       "      <td>2</td>\n",
       "      <td>4</td>\n",
       "      <td>3.71</td>\n",
       "    </tr>\n",
       "    <tr>\n",
       "      <th>3</th>\n",
       "      <td>4</td>\n",
       "      <td>0.204520</td>\n",
       "      <td>5</td>\n",
       "      <td>3</td>\n",
       "      <td>2</td>\n",
       "      <td>0</td>\n",
       "      <td>3.00</td>\n",
       "    </tr>\n",
       "    <tr>\n",
       "      <th>4</th>\n",
       "      <td>5</td>\n",
       "      <td>0.267200</td>\n",
       "      <td>3</td>\n",
       "      <td>1</td>\n",
       "      <td>0</td>\n",
       "      <td>2</td>\n",
       "      <td>4.00</td>\n",
       "    </tr>\n",
       "    <tr>\n",
       "      <th>5</th>\n",
       "      <td>6</td>\n",
       "      <td>0.110700</td>\n",
       "      <td>7</td>\n",
       "      <td>2</td>\n",
       "      <td>2</td>\n",
       "      <td>3</td>\n",
       "      <td>3.86</td>\n",
       "    </tr>\n",
       "    <tr>\n",
       "      <th>6</th>\n",
       "      <td>7</td>\n",
       "      <td>-0.095067</td>\n",
       "      <td>3</td>\n",
       "      <td>1</td>\n",
       "      <td>2</td>\n",
       "      <td>0</td>\n",
       "      <td>2.67</td>\n",
       "    </tr>\n",
       "    <tr>\n",
       "      <th>7</th>\n",
       "      <td>8</td>\n",
       "      <td>0.259100</td>\n",
       "      <td>3</td>\n",
       "      <td>1</td>\n",
       "      <td>0</td>\n",
       "      <td>2</td>\n",
       "      <td>5.00</td>\n",
       "    </tr>\n",
       "    <tr>\n",
       "      <th>8</th>\n",
       "      <td>9</td>\n",
       "      <td>0.397680</td>\n",
       "      <td>5</td>\n",
       "      <td>4</td>\n",
       "      <td>1</td>\n",
       "      <td>0</td>\n",
       "      <td>3.40</td>\n",
       "    </tr>\n",
       "    <tr>\n",
       "      <th>9</th>\n",
       "      <td>10</td>\n",
       "      <td>0.081225</td>\n",
       "      <td>4</td>\n",
       "      <td>1</td>\n",
       "      <td>1</td>\n",
       "      <td>2</td>\n",
       "      <td>3.50</td>\n",
       "    </tr>\n",
       "    <tr>\n",
       "      <th>10</th>\n",
       "      <td>11</td>\n",
       "      <td>0.401517</td>\n",
       "      <td>6</td>\n",
       "      <td>4</td>\n",
       "      <td>0</td>\n",
       "      <td>2</td>\n",
       "      <td>4.00</td>\n",
       "    </tr>\n",
       "    <tr>\n",
       "      <th>11</th>\n",
       "      <td>12</td>\n",
       "      <td>-0.154450</td>\n",
       "      <td>2</td>\n",
       "      <td>0</td>\n",
       "      <td>1</td>\n",
       "      <td>1</td>\n",
       "      <td>3.00</td>\n",
       "    </tr>\n",
       "    <tr>\n",
       "      <th>12</th>\n",
       "      <td>13</td>\n",
       "      <td>0.122111</td>\n",
       "      <td>9</td>\n",
       "      <td>3</td>\n",
       "      <td>2</td>\n",
       "      <td>4</td>\n",
       "      <td>3.67</td>\n",
       "    </tr>\n",
       "    <tr>\n",
       "      <th>13</th>\n",
       "      <td>15</td>\n",
       "      <td>0.291767</td>\n",
       "      <td>6</td>\n",
       "      <td>3</td>\n",
       "      <td>0</td>\n",
       "      <td>3</td>\n",
       "      <td>4.00</td>\n",
       "    </tr>\n",
       "    <tr>\n",
       "      <th>14</th>\n",
       "      <td>16</td>\n",
       "      <td>0.145540</td>\n",
       "      <td>10</td>\n",
       "      <td>3</td>\n",
       "      <td>4</td>\n",
       "      <td>3</td>\n",
       "      <td>3.40</td>\n",
       "    </tr>\n",
       "    <tr>\n",
       "      <th>15</th>\n",
       "      <td>17</td>\n",
       "      <td>0.174322</td>\n",
       "      <td>9</td>\n",
       "      <td>3</td>\n",
       "      <td>3</td>\n",
       "      <td>3</td>\n",
       "      <td>3.89</td>\n",
       "    </tr>\n",
       "    <tr>\n",
       "      <th>16</th>\n",
       "      <td>18</td>\n",
       "      <td>-0.102967</td>\n",
       "      <td>3</td>\n",
       "      <td>0</td>\n",
       "      <td>1</td>\n",
       "      <td>2</td>\n",
       "      <td>4.00</td>\n",
       "    </tr>\n",
       "    <tr>\n",
       "      <th>17</th>\n",
       "      <td>19</td>\n",
       "      <td>0.294240</td>\n",
       "      <td>5</td>\n",
       "      <td>2</td>\n",
       "      <td>0</td>\n",
       "      <td>3</td>\n",
       "      <td>4.40</td>\n",
       "    </tr>\n",
       "    <tr>\n",
       "      <th>18</th>\n",
       "      <td>20</td>\n",
       "      <td>0.119100</td>\n",
       "      <td>2</td>\n",
       "      <td>1</td>\n",
       "      <td>0</td>\n",
       "      <td>1</td>\n",
       "      <td>4.00</td>\n",
       "    </tr>\n",
       "  </tbody>\n",
       "</table>\n",
       "</div>"
      ],
      "text/plain": [
       "    productid  avg_sentiment  total_reviews  positive_reviews  \\\n",
       "0           1       0.272625              4                 2   \n",
       "1           2      -0.034314              7                 1   \n",
       "2           3       0.042700              7                 1   \n",
       "3           4       0.204520              5                 3   \n",
       "4           5       0.267200              3                 1   \n",
       "5           6       0.110700              7                 2   \n",
       "6           7      -0.095067              3                 1   \n",
       "7           8       0.259100              3                 1   \n",
       "8           9       0.397680              5                 4   \n",
       "9          10       0.081225              4                 1   \n",
       "10         11       0.401517              6                 4   \n",
       "11         12      -0.154450              2                 0   \n",
       "12         13       0.122111              9                 3   \n",
       "13         15       0.291767              6                 3   \n",
       "14         16       0.145540             10                 3   \n",
       "15         17       0.174322              9                 3   \n",
       "16         18      -0.102967              3                 0   \n",
       "17         19       0.294240              5                 2   \n",
       "18         20       0.119100              2                 1   \n",
       "\n",
       "    negative_reviews  neutral_reviews  avg_rating  \n",
       "0                  1                1        4.00  \n",
       "1                  2                4        3.57  \n",
       "2                  2                4        3.71  \n",
       "3                  2                0        3.00  \n",
       "4                  0                2        4.00  \n",
       "5                  2                3        3.86  \n",
       "6                  2                0        2.67  \n",
       "7                  0                2        5.00  \n",
       "8                  1                0        3.40  \n",
       "9                  1                2        3.50  \n",
       "10                 0                2        4.00  \n",
       "11                 1                1        3.00  \n",
       "12                 2                4        3.67  \n",
       "13                 0                3        4.00  \n",
       "14                 4                3        3.40  \n",
       "15                 3                3        3.89  \n",
       "16                 1                2        4.00  \n",
       "17                 0                3        4.40  \n",
       "18                 0                1        4.00  "
      ]
     },
     "execution_count": 81,
     "metadata": {},
     "output_type": "execute_result"
    }
   ],
   "source": [
    "product_performance"
   ]
  },
  {
   "cell_type": "code",
   "execution_count": null,
   "id": "5e8fb6ac-4ffe-4a5f-b803-14fdf76c5c2d",
   "metadata": {},
   "outputs": [],
   "source": []
  },
  {
   "cell_type": "markdown",
   "id": "49962032-91c2-4714-bc58-50c3a5f4f6a2",
   "metadata": {},
   "source": [
    "# Marketing Effectiveness (SQL):"
   ]
  },
  {
   "cell_type": "code",
   "execution_count": null,
   "id": "4269f55c-be96-4e10-8007-1c8cc28539c1",
   "metadata": {},
   "outputs": [],
   "source": [
    "# Calculate customer retention rate."
   ]
  },
  {
   "cell_type": "code",
   "execution_count": 86,
   "id": "bfc1fe1a-90e9-4228-998b-1c4daad37c2d",
   "metadata": {},
   "outputs": [
    {
     "name": "stdout",
     "output_type": "stream",
     "text": [
      "Customer Retention Rate: 38.46%\n"
     ]
    }
   ],
   "source": [
    "def calculate_customer_retention_rate(file_path):\n",
    "    # Load dataset\n",
    "    df = pd.read_csv(file_path, parse_dates=['VisitDate'])\n",
    "    \n",
    "    # Extract first and last visit dates per customer\n",
    "    customer_visits = df.groupby('CustomerID')['VisitDate'].agg(['min', 'max']).reset_index()\n",
    "    \n",
    "    # Define retention criteria (e.g., retained if returned within a certain period, e.g., 90 days)\n",
    "    retention_period = pd.Timedelta(days=90)\n",
    "    customer_visits['retained'] = (customer_visits['max'] - customer_visits['min']) > retention_period\n",
    "    \n",
    "    # Calculate retention rate\n",
    "    total_customers = len(customer_visits)\n",
    "    retained_customers = customer_visits['retained'].sum()\n",
    "    retention_rate = (retained_customers / total_customers) * 100\n",
    "    \n",
    "    return retention_rate\n",
    "\n",
    "# Example usage\n",
    "file_path = \"integrated_data.csv\"\n",
    "retention_rate = calculate_customer_retention_rate(file_path)\n",
    "print(f\"Customer Retention Rate: {retention_rate:.2f}%\")\n"
   ]
  },
  {
   "cell_type": "markdown",
   "id": "2f05b191-e8a1-4c27-8791-9b56c0f67493",
   "metadata": {},
   "source": []
  },
  {
   "cell_type": "code",
   "execution_count": null,
   "id": "918ce675-8618-4b69-a612-e54252423e5b",
   "metadata": {},
   "outputs": [],
   "source": [
    "# Compare repeat vs. first-time buyers."
   ]
  },
  {
   "cell_type": "code",
   "execution_count": 2,
   "id": "44e5c48b-3c03-4ca6-92cc-87e4c47715b9",
   "metadata": {},
   "outputs": [
    {
     "name": "stdout",
     "output_type": "stream",
     "text": [
      "         buyer_type  percentage\n",
      "0  First-Time Buyer   94.736842\n",
      "1      Repeat Buyer    5.263158\n"
     ]
    }
   ],
   "source": [
    "# Load the dataset\n",
    "file_path = \"customer_journey.csv\"  # Update this if needed\n",
    "customer_journey = pd.read_csv(file_path)\n",
    "\n",
    "# Normalize Stage column to lowercase\n",
    "customer_journey['Stage'] = customer_journey['Stage'].str.lower()\n",
    "\n",
    "# Filter only checkout events\n",
    "checkout_data = customer_journey[customer_journey['Stage'] == 'checkout']\n",
    "\n",
    "# Count occurrences of each customer in checkout\n",
    "checkout_counts = checkout_data.groupby('CustomerID').size().reset_index(name='purchase_count')\n",
    "\n",
    "# Classify buyers\n",
    "checkout_counts['buyer_type'] = checkout_counts['purchase_count'].apply(lambda x: 'First-Time Buyer' if x == 1 else 'Repeat Buyer')\n",
    "\n",
    "# Get counts and percentages\n",
    "buyer_summary = checkout_counts['buyer_type'].value_counts(normalize=True).reset_index()\n",
    "buyer_summary.columns = ['buyer_type', 'percentage']\n",
    "buyer_summary['percentage'] *= 100  # Convert to percentage\n",
    "\n",
    "# Print the results\n",
    "print(buyer_summary)\n"
   ]
  },
  {
   "cell_type": "code",
   "execution_count": null,
   "id": "254f6bfe-6dc9-4cb3-af2b-ba0739613b97",
   "metadata": {},
   "outputs": [],
   "source": []
  },
  {
   "cell_type": "code",
   "execution_count": null,
   "id": "0751d8ce-82cf-4ea6-beb7-0d6f4f7345ce",
   "metadata": {},
   "outputs": [],
   "source": [
    "# Find best-performing products per region."
   ]
  },
  {
   "cell_type": "code",
   "execution_count": 3,
   "id": "f3d15f92-d2c5-4817-a8e8-c19ef91ffb54",
   "metadata": {},
   "outputs": [
    {
     "name": "stdout",
     "output_type": "stream",
     "text": [
      "       Country       City      ProductName  purchase_count  rank\n",
      "0      Austria     Vienna            Kayak               1   1.0\n",
      "1      Germany     Berlin  Fitness Tracker               1   1.0\n",
      "2  Netherlands  Amsterdam    Climbing Rope               1   1.0\n",
      "3        Spain     Madrid        Surfboard               1   1.0\n",
      "4       Sweden  Stockholm    Climbing Rope               1   1.0\n",
      "5           UK     London        Surfboard               1   1.0\n"
     ]
    }
   ],
   "source": [
    "# Load datasets\n",
    "customer_journey = pd.read_csv(\"customer_journey.csv\")\n",
    "customers = pd.read_csv(\"customers.csv\")\n",
    "geography = pd.read_csv(\"geography.csv\")\n",
    "products = pd.read_csv(\"products.csv\")\n",
    "\n",
    "# Normalize stage column to lowercase\n",
    "customer_journey['Stage'] = customer_journey['Stage'].str.lower()\n",
    "\n",
    "# Filter only purchases (Stage = 'checkout' and Action = 'Purchase')\n",
    "purchases = customer_journey[(customer_journey['Stage'] == 'checkout') & (customer_journey['Action'] == 'Purchase')]\n",
    "\n",
    "# Merge with customers to get GeographyID\n",
    "purchases = purchases.merge(customers[['CustomerID', 'GeographyID']], on='CustomerID', how='left')\n",
    "\n",
    "# Merge with geography to get region details\n",
    "purchases = purchases.merge(geography, on='GeographyID', how='left')\n",
    "\n",
    "# Merge with products to get product details\n",
    "purchases = purchases.merge(products[['ProductID', 'ProductName']], on='ProductID', how='left')\n",
    "\n",
    "# Count purchases per product per region\n",
    "product_performance = purchases.groupby(['Country', 'City', 'ProductName']).size().reset_index(name='purchase_count')\n",
    "\n",
    "# Rank products per region\n",
    "product_performance['rank'] = product_performance.groupby(['Country', 'City'])['purchase_count'].rank(method='dense', ascending=False)\n",
    "\n",
    "# Display results\n",
    "print(product_performance.sort_values(['Country', 'City', 'rank']))\n"
   ]
  },
  {
   "cell_type": "code",
   "execution_count": null,
   "id": "57673280-8e46-4a5a-83e6-9d4b73b76d6d",
   "metadata": {},
   "outputs": [],
   "source": []
  },
  {
   "cell_type": "code",
   "execution_count": null,
   "id": "62c383ea-08f9-473b-8a63-b73dc077a178",
   "metadata": {},
   "outputs": [],
   "source": []
  },
  {
   "cell_type": "code",
   "execution_count": null,
   "id": "13ac94ee-c154-4145-8698-ed470430f8da",
   "metadata": {},
   "outputs": [],
   "source": []
  },
  {
   "cell_type": "markdown",
   "id": "e3529992-5ae1-4516-af7b-79c13177df4d",
   "metadata": {},
   "source": []
  },
  {
   "cell_type": "code",
   "execution_count": null,
   "id": "0a12c453-9550-43e3-9682-cb29bb585590",
   "metadata": {},
   "outputs": [],
   "source": []
  },
  {
   "cell_type": "code",
   "execution_count": null,
   "id": "cf11795b-24e9-496e-bfd1-48ee96b57c81",
   "metadata": {},
   "outputs": [],
   "source": []
  },
  {
   "cell_type": "markdown",
   "id": "e5ae7d3b-7844-41b4-bfb7-de01c0297b1b",
   "metadata": {},
   "source": []
  },
  {
   "cell_type": "code",
   "execution_count": null,
   "id": "3125093f-e08d-4cc4-97c7-cdffc6a07e52",
   "metadata": {},
   "outputs": [],
   "source": []
  },
  {
   "cell_type": "code",
   "execution_count": null,
   "id": "fdb64c87-85b4-44c1-8d47-01c2c144017a",
   "metadata": {},
   "outputs": [],
   "source": []
  },
  {
   "cell_type": "code",
   "execution_count": null,
   "id": "a01702d0-5144-475d-8e9b-20ae1a0d33b9",
   "metadata": {},
   "outputs": [],
   "source": []
  },
  {
   "cell_type": "code",
   "execution_count": null,
   "id": "a53c245a-b120-4bda-9a41-3514e6b827b0",
   "metadata": {},
   "outputs": [],
   "source": []
  },
  {
   "cell_type": "markdown",
   "id": "ed3e19a1-bd71-471b-8e54-480878409801",
   "metadata": {},
   "source": []
  },
  {
   "cell_type": "code",
   "execution_count": null,
   "id": "924a90ab-8842-4545-bec9-a876f4583167",
   "metadata": {},
   "outputs": [],
   "source": []
  },
  {
   "cell_type": "code",
   "execution_count": null,
   "id": "eb069cd4-25c4-4261-909b-aecce312eb4c",
   "metadata": {},
   "outputs": [],
   "source": []
  },
  {
   "cell_type": "markdown",
   "id": "fda1576d-64dc-4639-8419-ab6031c326ac",
   "metadata": {},
   "source": []
  },
  {
   "cell_type": "code",
   "execution_count": null,
   "id": "f5ed21c1-1e8d-4644-9941-547c47247c25",
   "metadata": {},
   "outputs": [],
   "source": []
  },
  {
   "cell_type": "code",
   "execution_count": null,
   "id": "85d2ee3f-371a-41e4-b274-57ea9540c30d",
   "metadata": {},
   "outputs": [],
   "source": []
  },
  {
   "cell_type": "markdown",
   "id": "3cd2b9bf-4560-4baf-9a8d-d95f467a8b54",
   "metadata": {},
   "source": []
  },
  {
   "cell_type": "code",
   "execution_count": null,
   "id": "f278753a-4904-46b8-9f7a-925239d744c6",
   "metadata": {},
   "outputs": [],
   "source": []
  },
  {
   "cell_type": "code",
   "execution_count": null,
   "id": "bd06975b-aa06-4ffe-bbe2-e6bd6992c689",
   "metadata": {},
   "outputs": [],
   "source": []
  },
  {
   "cell_type": "markdown",
   "id": "8519ad31-b77a-4895-8ab5-9bb63f256306",
   "metadata": {},
   "source": []
  },
  {
   "cell_type": "code",
   "execution_count": null,
   "id": "2ad80ac2-c2d7-4223-807e-69b449ce2c4a",
   "metadata": {},
   "outputs": [],
   "source": []
  },
  {
   "cell_type": "code",
   "execution_count": null,
   "id": "c891ca4b-73d0-4011-a68a-91e60102e0e8",
   "metadata": {},
   "outputs": [],
   "source": []
  },
  {
   "cell_type": "markdown",
   "id": "ae72c41d-8051-44d3-8d73-b29fe4175abf",
   "metadata": {},
   "source": []
  },
  {
   "cell_type": "code",
   "execution_count": null,
   "id": "07458edf-4c89-42e8-886a-f5a35a09d67f",
   "metadata": {},
   "outputs": [],
   "source": []
  },
  {
   "cell_type": "code",
   "execution_count": null,
   "id": "fa1c0cdc-c3c0-4d03-b6ed-18ce9a2429f4",
   "metadata": {},
   "outputs": [],
   "source": []
  },
  {
   "cell_type": "markdown",
   "id": "9577f118-d3d7-4e2b-9362-c8704684d1a0",
   "metadata": {},
   "source": []
  },
  {
   "cell_type": "code",
   "execution_count": null,
   "id": "5b2b5b6b-a478-4d0f-a56e-cf36ef9daab1",
   "metadata": {},
   "outputs": [],
   "source": []
  },
  {
   "cell_type": "code",
   "execution_count": null,
   "id": "9f7d2889-7b1d-4229-b8b5-f95798965a01",
   "metadata": {},
   "outputs": [],
   "source": []
  },
  {
   "cell_type": "markdown",
   "id": "4ff4be69-ebe3-4313-b7a6-3f65d612b5e9",
   "metadata": {},
   "source": []
  },
  {
   "cell_type": "code",
   "execution_count": null,
   "id": "2c5ffa10-62ec-4850-8c92-2dad251b3467",
   "metadata": {},
   "outputs": [],
   "source": []
  },
  {
   "cell_type": "code",
   "execution_count": null,
   "id": "601e5742-5773-4731-9544-2421573d8f9c",
   "metadata": {},
   "outputs": [],
   "source": []
  },
  {
   "cell_type": "markdown",
   "id": "dfead536-f47d-4efd-872a-ed8118696ee8",
   "metadata": {},
   "source": []
  },
  {
   "cell_type": "code",
   "execution_count": null,
   "id": "c78750de-bdd5-4a99-b42c-fc7241714ea3",
   "metadata": {},
   "outputs": [],
   "source": []
  },
  {
   "cell_type": "code",
   "execution_count": null,
   "id": "81b12ad2-44ee-499f-a70d-788bd17f513b",
   "metadata": {},
   "outputs": [],
   "source": []
  },
  {
   "cell_type": "markdown",
   "id": "82892a19-d5e7-4d7e-932f-7d26ec1783b0",
   "metadata": {},
   "source": []
  },
  {
   "cell_type": "code",
   "execution_count": null,
   "id": "dd3a13c9-f792-4f25-86fa-bf0c61baea3a",
   "metadata": {},
   "outputs": [],
   "source": []
  },
  {
   "cell_type": "code",
   "execution_count": null,
   "id": "023f9867-020f-4379-bb4c-8a02b82ada27",
   "metadata": {},
   "outputs": [],
   "source": []
  },
  {
   "cell_type": "code",
   "execution_count": null,
   "id": "e5092b66-ac89-4303-98e0-763c78e5cd9a",
   "metadata": {},
   "outputs": [],
   "source": []
  },
  {
   "cell_type": "code",
   "execution_count": null,
   "id": "06fc773e-d7e9-4851-94e1-25cbfcefb699",
   "metadata": {},
   "outputs": [],
   "source": []
  },
  {
   "cell_type": "code",
   "execution_count": null,
   "id": "3314b77c-baae-455d-b78a-1878d9fe4454",
   "metadata": {},
   "outputs": [],
   "source": []
  },
  {
   "cell_type": "markdown",
   "id": "9de2f1d0-9eec-4930-815f-effa1cf5972e",
   "metadata": {},
   "source": []
  },
  {
   "cell_type": "code",
   "execution_count": 50,
   "id": "d8d024b1-26b0-4e4c-aeb5-4ee0331a1120",
   "metadata": {},
   "outputs": [],
   "source": []
  },
  {
   "cell_type": "code",
   "execution_count": 29,
   "id": "8fee79d3-f66c-4800-b68b-23ea536e33fc",
   "metadata": {},
   "outputs": [],
   "source": []
  },
  {
   "cell_type": "code",
   "execution_count": null,
   "id": "97e250d1-537e-4c3b-b555-2361e8e1b59c",
   "metadata": {},
   "outputs": [],
   "source": []
  },
  {
   "cell_type": "code",
   "execution_count": null,
   "id": "10617a26-23fa-4598-a659-2104aab70718",
   "metadata": {},
   "outputs": [],
   "source": []
  },
  {
   "cell_type": "code",
   "execution_count": null,
   "id": "9f03d0de-5476-4964-9ead-1c05014f2b5a",
   "metadata": {},
   "outputs": [],
   "source": []
  },
  {
   "cell_type": "code",
   "execution_count": null,
   "id": "844ddc8b-daf8-4d0b-818a-759e658c9f23",
   "metadata": {},
   "outputs": [],
   "source": []
  },
  {
   "cell_type": "markdown",
   "id": "93499c94-e041-4b76-84bc-7bf5ca081a4f",
   "metadata": {},
   "source": []
  },
  {
   "cell_type": "code",
   "execution_count": null,
   "id": "5e8213be-2fad-42d0-8e98-4aa7bcd90c2a",
   "metadata": {},
   "outputs": [],
   "source": []
  },
  {
   "cell_type": "code",
   "execution_count": null,
   "id": "fcc0e3a6-7bc0-42b5-a4b9-d33d53fc7902",
   "metadata": {},
   "outputs": [],
   "source": []
  },
  {
   "cell_type": "code",
   "execution_count": 47,
   "id": "ac3502cf-5553-4cd5-817b-b438fe9f66c8",
   "metadata": {},
   "outputs": [],
   "source": []
  },
  {
   "cell_type": "code",
   "execution_count": null,
   "id": "9cd8cfb0-c9dd-44fd-8c89-a69d328a0d0b",
   "metadata": {},
   "outputs": [],
   "source": []
  },
  {
   "cell_type": "code",
   "execution_count": null,
   "id": "21cd2842-4fbb-4acf-9f14-446062bc5c0e",
   "metadata": {},
   "outputs": [],
   "source": []
  },
  {
   "cell_type": "code",
   "execution_count": null,
   "id": "29f2cd50-5693-4a00-bb4d-45119af2a4f0",
   "metadata": {},
   "outputs": [],
   "source": []
  },
  {
   "cell_type": "code",
   "execution_count": null,
   "id": "163a959c-bd3d-4f80-9206-6ea6393a8204",
   "metadata": {},
   "outputs": [],
   "source": []
  },
  {
   "cell_type": "code",
   "execution_count": null,
   "id": "2a44d53b-6def-4ac5-b883-ae311a7be042",
   "metadata": {},
   "outputs": [],
   "source": []
  },
  {
   "cell_type": "code",
   "execution_count": null,
   "id": "5dbe3d25-6037-408a-a359-d678c10da32f",
   "metadata": {},
   "outputs": [],
   "source": []
  },
  {
   "cell_type": "code",
   "execution_count": null,
   "id": "84312405-2a8c-474b-a5dd-657d5af3a442",
   "metadata": {},
   "outputs": [],
   "source": []
  },
  {
   "cell_type": "code",
   "execution_count": null,
   "id": "7701bdd9-f640-41e8-ba6c-277ce534a5cb",
   "metadata": {},
   "outputs": [],
   "source": []
  },
  {
   "cell_type": "code",
   "execution_count": null,
   "id": "324745f1-e09d-41a6-8a71-27d0834ea64e",
   "metadata": {},
   "outputs": [],
   "source": []
  },
  {
   "cell_type": "code",
   "execution_count": null,
   "id": "382d474d-1d30-4658-a1f5-71294ddabdba",
   "metadata": {},
   "outputs": [],
   "source": []
  }
 ],
 "metadata": {
  "kernelspec": {
   "display_name": "Python 3 (ipykernel)",
   "language": "python",
   "name": "python3"
  },
  "language_info": {
   "codemirror_mode": {
    "name": "ipython",
    "version": 3
   },
   "file_extension": ".py",
   "mimetype": "text/x-python",
   "name": "python",
   "nbconvert_exporter": "python",
   "pygments_lexer": "ipython3",
   "version": "3.12.4"
  }
 },
 "nbformat": 4,
 "nbformat_minor": 5
}
